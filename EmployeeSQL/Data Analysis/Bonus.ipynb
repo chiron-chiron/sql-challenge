{
 "cells": [
  {
   "cell_type": "code",
   "execution_count": 2,
   "metadata": {},
   "outputs": [],
   "source": [
    "# Dependencies 1st library install\n",
    "import pandas as pd\n",
    "\n",
    "# SQL Alchemy, 2nd library install\n",
    "from sqlalchemy import create_engine\n",
    "\n",
    "# Call password for pgadmin4 (make sure its gitignore)\n",
    "from config import pgadmin4_key\n",
    "\n",
    "{pgadmin4_key}\n",
    "\n",
    "#Install a database connector\n",
    "database_path = \"Data Analysis/Data_analysis.sql\"\n"
   ]
  },
  {
   "cell_type": "code",
   "execution_count": null,
   "metadata": {},
   "outputs": [],
   "source": [
    "# Create engine\n",
    "engine = create_engine(f'postgresql://postgres:{pgadmin4_key}//localhost:5432/<your_db_name>')\n",
    "connection = engine.connect()"
   ]
  },
  {
   "cell_type": "code",
   "execution_count": null,
   "metadata": {},
   "outputs": [],
   "source": [
    "# 1. Import the SQL database into Pandas. \n",
    "# (Yes, you could read the CSVs directly in Pandas, but you are, after all, trying to prove your technical mettle.) \n",
    "# This step may require some research. Feel free to use the code below to get started. \n",
    "# Be sure to make any necessary modifications for your: \n",
    "# username, \n",
    "# password, \n",
    "# host, \n",
    "# port, and \n",
    "# database name:\n",
    "\n"
   ]
  },
  {
   "cell_type": "code",
   "execution_count": null,
   "metadata": {},
   "outputs": [],
   "source": [
    "# Query All Records in the the Database\n",
    "data = pd.read_sql(\"SELECT * FROM Employees\", conn)\n",
    "\n",
    "# Preview the Data\n",
    "data.head()"
   ]
  }
 ],
 "metadata": {
  "kernelspec": {
   "display_name": "Python 3.7.13 ('bootcamp')",
   "language": "python",
   "name": "python3"
  },
  "language_info": {
   "codemirror_mode": {
    "name": "ipython",
    "version": 3
   },
   "file_extension": ".py",
   "mimetype": "text/x-python",
   "name": "python",
   "nbconvert_exporter": "python",
   "pygments_lexer": "ipython3",
   "version": "3.7.13"
  },
  "orig_nbformat": 4,
  "vscode": {
   "interpreter": {
    "hash": "c1045dce47e268ff1365c3f603defeb0aa850c229e636842f21fdc3e170438c8"
   }
  }
 },
 "nbformat": 4,
 "nbformat_minor": 2
}
